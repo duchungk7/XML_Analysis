{
 "cells": [
  {
   "cell_type": "code",
   "execution_count": null,
   "metadata": {},
   "outputs": [],
   "source": [
    "import xml.dom.minidom"
   ]
  },
  {
   "cell_type": "code",
   "execution_count": null,
   "metadata": {},
   "outputs": [],
   "source": [
    "# use the parse() function to load and parse an XML file\n",
    "doc = xml.dom.minidom.parse(\"premium-world-check.xml\");"
   ]
  },
  {
   "cell_type": "code",
   "execution_count": null,
   "metadata": {},
   "outputs": [],
   "source": [
    "doc"
   ]
  },
  {
   "cell_type": "code",
   "execution_count": null,
   "metadata": {},
   "outputs": [],
   "source": [
    "# print out the document node and the name of the first child tag\n",
    "print (doc.nodeName)\n",
    "print (doc.firstChild.tagName)  # 印出 最高層 tags"
   ]
  },
  {
   "cell_type": "code",
   "execution_count": null,
   "metadata": {},
   "outputs": [],
   "source": [
    "# get a list of XML tags from the document and print each one\n",
    "further_information = doc.getElementsByTagName(\"further_information\")\n",
    "print (\"%d further_information:\" % further_information.length)\n",
    "\n",
    "\n",
    "\n",
    "# get a list of XML tags from the document and print each one\n",
    "locations = doc.getElementsByTagName(\"locations\")\n",
    "print (\"%d locations:\" % locations.length)"
   ]
  },
  {
   "cell_type": "code",
   "execution_count": null,
   "metadata": {},
   "outputs": [],
   "source": [
    "for skill in country:\n",
    "    print (skill.getAttribute(\"name\"))"
   ]
  },
  {
   "cell_type": "code",
   "execution_count": null,
   "metadata": {},
   "outputs": [],
   "source": [
    "# create a new XML tag and add it into the document\n",
    "newexpertise = doc.createElement(\"country\")"
   ]
  },
  {
   "cell_type": "code",
   "execution_count": null,
   "metadata": {},
   "outputs": [],
   "source": []
  },
  {
   "cell_type": "code",
   "execution_count": null,
   "metadata": {},
   "outputs": [],
   "source": [
    "\n",
    "newexpertise.setAttribute(\"name\", \"rank\")\n",
    "doc.firstChild.appendChild(newexpertise)\n",
    "print (\" \")\n"
   ]
  },
  {
   "cell_type": "code",
   "execution_count": null,
   "metadata": {},
   "outputs": [],
   "source": []
  },
  {
   "cell_type": "code",
   "execution_count": null,
   "metadata": {},
   "outputs": [],
   "source": []
  },
  {
   "cell_type": "code",
   "execution_count": null,
   "metadata": {},
   "outputs": [],
   "source": [
    "\n",
    "\n",
    "expertise = doc.getElementsByTagName(\"country\")\n",
    "print (\"%d country:\" % expertise.length)\n",
    "for skill in expertise:\n",
    "    print (skill.getAttribute(\"name\"))"
   ]
  },
  {
   "cell_type": "code",
   "execution_count": null,
   "metadata": {},
   "outputs": [],
   "source": []
  },
  {
   "cell_type": "code",
   "execution_count": null,
   "metadata": {},
   "outputs": [],
   "source": []
  },
  {
   "cell_type": "code",
   "execution_count": null,
   "metadata": {},
   "outputs": [],
   "source": []
  },
  {
   "cell_type": "code",
   "execution_count": null,
   "metadata": {},
   "outputs": [],
   "source": []
  },
  {
   "cell_type": "code",
   "execution_count": null,
   "metadata": {},
   "outputs": [],
   "source": [
    "def main():\n",
    "    # use the parse() function to load and parse an XML file\n",
    "    doc = xml.dom.minidom.parse(\"xml_test_file.xml\");\n",
    "\n",
    "    # print out the document node and the name of the first child tag\n",
    "    print (doc.nodeName)\n",
    "    print (doc.firstChild.tagName)\n",
    "    \n",
    "    \n",
    "    # get a list of XML tags from the document and print each one\n",
    "    expertise = doc.getElementsByTagName(\"country\")\n",
    "    print (\"%d expertise:\" % expertise.length)\n",
    "    for skill in expertise:\n",
    "        print (skill.getAttribute(\"name\"))\n",
    "\n",
    "        \n",
    "    # create a new XML tag and add it into the document\n",
    "    newexpertise = doc.createElement(\"country\")\n",
    "    newexpertise.setAttribute(\"name\", \"rank\")\n",
    "    doc.firstChild.appendChild(newexpertise)\n",
    "    print (\" \")\n",
    "\n",
    "    expertise = doc.getElementsByTagName(\"country\")\n",
    "    print (\"%d country:\" % expertise.length)\n",
    "    for skill in expertise:\n",
    "        print (skill.getAttribute(\"name\"))"
   ]
  },
  {
   "cell_type": "code",
   "execution_count": null,
   "metadata": {},
   "outputs": [],
   "source": [
    "if __name__ == \"__main__\":\n",
    "    main();"
   ]
  },
  {
   "cell_type": "code",
   "execution_count": null,
   "metadata": {},
   "outputs": [],
   "source": []
  },
  {
   "cell_type": "markdown",
   "metadata": {},
   "source": [
    "# 如何加入資訊到一個 XML 檔案"
   ]
  },
  {
   "cell_type": "markdown",
   "metadata": {},
   "source": [
    "並加入資訊 [\"target\"] = \"blank\""
   ]
  },
  {
   "cell_type": "code",
   "execution_count": null,
   "metadata": {},
   "outputs": [],
   "source": [
    "#讀取 原本 xml 檔案\n",
    "from xml.etree.ElementTree import ElementTree\n",
    "tree = ElementTree()\n",
    "tree.parse(\"index.xml\")"
   ]
  },
  {
   "cell_type": "code",
   "execution_count": null,
   "metadata": {},
   "outputs": [],
   "source": [
    "p = tree.find(\"body/p\")     # Finds first occurrence of tag p in body\n",
    "p"
   ]
  },
  {
   "cell_type": "code",
   "execution_count": null,
   "metadata": {},
   "outputs": [],
   "source": [
    "links = list(p.iter(\"a\"))   # Returns list of all links\n",
    "links"
   ]
  },
  {
   "cell_type": "code",
   "execution_count": null,
   "metadata": {},
   "outputs": [],
   "source": [
    "for i in links:             # Iterates through all found links\n",
    "    i.attrib[\"target\"] = \"blank\""
   ]
  },
  {
   "cell_type": "code",
   "execution_count": null,
   "metadata": {},
   "outputs": [],
   "source": [
    "tree.write(\"output.xml\")"
   ]
  },
  {
   "cell_type": "markdown",
   "metadata": {},
   "source": [
    "# 基本的xml文件的读取，保存，以及文件内部节点的增删查改等基本功能"
   ]
  },
  {
   "cell_type": "markdown",
   "metadata": {},
   "source": [
    "### 读取xml文件"
   ]
  },
  {
   "cell_type": "code",
   "execution_count": null,
   "metadata": {},
   "outputs": [],
   "source": [
    "import xml.etree.ElementTree as ET\n",
    "def read_xml(file):\n",
    "    tree = ET.parse(file)    \n",
    "    return tree\n",
    "tree = read_xml('example.xml')"
   ]
  },
  {
   "cell_type": "code",
   "execution_count": null,
   "metadata": {},
   "outputs": [],
   "source": [
    "tree"
   ]
  },
  {
   "cell_type": "markdown",
   "metadata": {},
   "source": [
    "### 写入 到 另外 一個 xml文件"
   ]
  },
  {
   "cell_type": "code",
   "execution_count": null,
   "metadata": {},
   "outputs": [],
   "source": [
    "import xml.etree.ElementTree as ET\n",
    "def write_xml(file,tree):\n",
    "    tree.write(file)\n",
    "write_xml('example_write.xml',tree)"
   ]
  },
  {
   "cell_type": "markdown",
   "metadata": {},
   "source": [
    "### 刪除 特定 tags"
   ]
  },
  {
   "cell_type": "code",
   "execution_count": null,
   "metadata": {},
   "outputs": [],
   "source": [
    "import lxml.etree as le"
   ]
  },
  {
   "cell_type": "code",
   "execution_count": null,
   "metadata": {},
   "outputs": [],
   "source": [
    "with open('example_write.xml','r') as f:\n",
    "    doc=le.parse(f)\n",
    "    for elem in doc.xpath('//*[attribute::name]'): # 取出 所有 name tags 元素\n",
    "        print(elem)"
   ]
  },
  {
   "cell_type": "code",
   "execution_count": null,
   "metadata": {},
   "outputs": [],
   "source": [
    "import lxml.etree as le\n",
    "with open('xml_test_file.xml','r') as f:\n",
    "    doc=le.parse(f)\n",
    "    for elem in doc.xpath('//*[attribute::name]'):\n",
    "        if elem.attrib['name']=='Singapore':     #  刪除 <country name=\"Singapore\">\n",
    "            parent=elem.getparent()\n",
    "            parent.remove(elem)\n",
    "           \n",
    "    #print(le.tostring(doc))\n",
    "    write_xml('example_write_remove.xml',doc)"
   ]
  },
  {
   "cell_type": "code",
   "execution_count": null,
   "metadata": {},
   "outputs": [],
   "source": []
  },
  {
   "cell_type": "markdown",
   "metadata": {},
   "source": [
    "###  刪除  name=\"Austria\""
   ]
  },
  {
   "cell_type": "code",
   "execution_count": null,
   "metadata": {},
   "outputs": [],
   "source": [
    "import sys\n",
    "from xml.etree import cElementTree as et\n",
    "\n",
    "def picklang(path, name='Austria'):\n",
    "    tr = et.parse(path)\n",
    "    for element in tr.iter():\n",
    "        for subelement in element:\n",
    "            la = subelement.get('name')\n",
    "            if la is not None and la == name:\n",
    "                element.remove(subelement)\n",
    "                \n",
    "    return tr\n",
    "\n",
    "def picklang02(path, name='Panama'): # 指定路徑到 name=\"Panama\", 然後刪除 name=\"Colombia\"\n",
    "    tr = et.parse(path)\n",
    "    for element in tr.iter():\n",
    "        for subelement in element:\n",
    "            la = subelement.get('name')\n",
    "            if la is not None and la == \"Colombia\":\n",
    "                element.remove(subelement)\n",
    "    return tr\n",
    "\n",
    "\n",
    "if __name__ == '__main__':\n",
    "    tr = picklang02('example.xml')\n",
    "    \n",
    "    tr.write(\"output_example.xml\")\n"
   ]
  },
  {
   "cell_type": "code",
   "execution_count": null,
   "metadata": {},
   "outputs": [],
   "source": []
  },
  {
   "cell_type": "code",
   "execution_count": null,
   "metadata": {},
   "outputs": [],
   "source": []
  },
  {
   "cell_type": "code",
   "execution_count": null,
   "metadata": {},
   "outputs": [],
   "source": []
  }
 ],
 "metadata": {
  "kernelspec": {
   "display_name": "Python 3",
   "language": "python",
   "name": "python3"
  },
  "language_info": {
   "codemirror_mode": {
    "name": "ipython",
    "version": 3
   },
   "file_extension": ".py",
   "mimetype": "text/x-python",
   "name": "python",
   "nbconvert_exporter": "python",
   "pygments_lexer": "ipython3",
   "version": "3.7.4"
  }
 },
 "nbformat": 4,
 "nbformat_minor": 2
}
